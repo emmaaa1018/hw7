{
 "cells": [
  {
   "cell_type": "code",
   "execution_count": 1,
   "metadata": {},
   "outputs": [
    {
     "name": "stdout",
     "output_type": "stream",
     "text": [
      "請猜一個1-100的數字43\n",
      "小一點\n",
      "請猜一個1-100的數字21\n",
      "小一點\n",
      "請猜一個1-100的數字1\n",
      "恭喜答對，數字是： 1\n"
     ]
    }
   ],
   "source": [
    "import random\n",
    "number = random.randint(1,100)\n",
    "\n",
    "while True:\n",
    "    guess_num = int(input('請猜一個1-100的數字'))\n",
    "    if guess_num==number:\n",
    "        print('恭喜答對，數字是：',number)\n",
    "        break\n",
    "    elif guess_num>number:\n",
    "        print('小一點')\n",
    "    elif guess_num<number:\n",
    "        print('大一點')"
   ]
  },
  {
   "cell_type": "code",
   "execution_count": null,
   "metadata": {},
   "outputs": [],
   "source": []
  }
 ],
 "metadata": {
  "kernelspec": {
   "display_name": "Python 3",
   "language": "python",
   "name": "python3"
  },
  "language_info": {
   "codemirror_mode": {
    "name": "ipython",
    "version": 3
   },
   "file_extension": ".py",
   "mimetype": "text/x-python",
   "name": "python",
   "nbconvert_exporter": "python",
   "pygments_lexer": "ipython3",
   "version": "3.6.4"
  }
 },
 "nbformat": 4,
 "nbformat_minor": 2
}
